{
  "nbformat": 4,
  "nbformat_minor": 0,
  "metadata": {
    "colab": {
      "name": "Untitled2.ipynb",
      "provenance": [],
      "authorship_tag": "ABX9TyOLThNmFuakRYxWMtYUXriD",
      "include_colab_link": true
    },
    "kernelspec": {
      "name": "python3",
      "display_name": "Python 3"
    }
  },
  "cells": [
    {
      "cell_type": "markdown",
      "metadata": {
        "id": "view-in-github",
        "colab_type": "text"
      },
      "source": [
        "<a href=\"https://colab.research.google.com/github/jayanthreddy4884/letupgrade-python/blob/master/Day%204%20armstrong.ipynb\" target=\"_parent\"><img src=\"https://colab.research.google.com/assets/colab-badge.svg\" alt=\"Open In Colab\"/></a>"
      ]
    },
    {
      "cell_type": "code",
      "metadata": {
        "id": "eSRYZi-6dUfv",
        "colab_type": "code",
        "colab": {}
      },
      "source": [
        "l=1042000\n",
        "u=702648265\n",
        "n,sum=1042000,0\n",
        "for i in range(l,u):\n",
        "    n=i\n",
        "    \n",
        "    while n>1 :\n",
        "        r=int(n%10)\n",
        "        sum=sum+(r**7)\n",
        "        n=int(n/10)\n",
        "    if sum==i:\n",
        "        print (i)\n",
        "        exit()"
      ],
      "execution_count": null,
      "outputs": []
    }
  ]
}