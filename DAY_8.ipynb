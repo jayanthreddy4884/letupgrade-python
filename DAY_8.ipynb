{
  "nbformat": 4,
  "nbformat_minor": 0,
  "metadata": {
    "colab": {
      "name": "DAY 8",
      "provenance": [],
      "collapsed_sections": [],
      "authorship_tag": "ABX9TyMkZxH/IfN1kwXzHAvftjA4",
      "include_colab_link": true
    },
    "kernelspec": {
      "name": "python3",
      "display_name": "Python 3"
    }
  },
  "cells": [
    {
      "cell_type": "markdown",
      "metadata": {
        "id": "view-in-github",
        "colab_type": "text"
      },
      "source": [
        "<a href=\"https://colab.research.google.com/github/jayanthreddy4884/letupgrade-python/blob/master/DAY_8.ipynb\" target=\"_parent\"><img src=\"https://colab.research.google.com/assets/colab-badge.svg\" alt=\"Open In Colab\"/></a>"
      ]
    },
    {
      "cell_type": "markdown",
      "metadata": {
        "id": "saKvVlU6Uq-s",
        "colab_type": "text"
      },
      "source": [
        "#Day 8  Assignments"
      ]
    },
    {
      "cell_type": "markdown",
      "metadata": {
        "id": "xIk-6W7pU9DG",
        "colab_type": "text"
      },
      "source": [
        "###Assignment 1"
      ]
    },
    {
      "cell_type": "code",
      "metadata": {
        "id": "5nTSglkfU7n8",
        "colab_type": "code",
        "colab": {
          "base_uri": "https://localhost:8080/",
          "height": 51
        },
        "outputId": "eaae34a3-1bba-46ea-c2ef-6204d8e58674"
      },
      "source": [
        " \n",
        " \n",
        " \n",
        "def fun1(fun2):\n",
        "  def fun3():\n",
        "    a=input(\"enter the range of number\")\n",
        "    fun2(a)\n",
        "  return fun3()\n",
        " \n",
        "@fun1\n",
        "def fact(n):\n",
        "  f=1\n",
        "  for i in range(1,int(n)):\n",
        "    f=f+i\n",
        " \n",
        "  print (\"factorial of \",n,\"  is : \",f)"
      ],
      "execution_count": 8,
      "outputs": [
        {
          "output_type": "stream",
          "text": [
            "enter the range of number10\n",
            "factorial of  10   is :  46\n"
          ],
          "name": "stdout"
        }
      ]
    },
    {
      "cell_type": "markdown",
      "metadata": {
        "id": "3PurAXxiU2Jd",
        "colab_type": "text"
      },
      "source": [
        "###Assignment 2"
      ]
    },
    {
      "cell_type": "code",
      "metadata": {
        "id": "iDYVxM4pSkiC",
        "colab_type": "code",
        "colab": {
          "base_uri": "https://localhost:8080/",
          "height": 54
        },
        "outputId": "e60bb3d2-e835-43b7-bef1-d0bcee2556e4"
      },
      "source": [
        " \n",
        "try:\n",
        " \n",
        "  p=open(\"jay.txt\", 'r')\n",
        " \n",
        "  print(p.write(\"jay\"))\n",
        " \n",
        "except:\n",
        " \n",
        "  print(\"File is opened in read only mode !!!. writing in to it is not allowed \")"
      ],
      "execution_count": 6,
      "outputs": [
        {
          "output_type": "stream",
          "text": [
            "File is opened in read only mode !!!. writing in to it is not allowed \n"
          ],
          "name": "stdout"
        }
      ]
    }
  ]
}