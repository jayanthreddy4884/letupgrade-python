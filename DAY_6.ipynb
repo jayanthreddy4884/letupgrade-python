{
  "nbformat": 4,
  "nbformat_minor": 0,
  "metadata": {
    "colab": {
      "name": "DAY 6.ipynb",
      "provenance": [],
      "collapsed_sections": [],
      "authorship_tag": "ABX9TyOWPLVoH6XJUY+rjy70BTra",
      "include_colab_link": true
    },
    "kernelspec": {
      "name": "python3",
      "display_name": "Python 3"
    }
  },
  "cells": [
    {
      "cell_type": "markdown",
      "metadata": {
        "id": "view-in-github",
        "colab_type": "text"
      },
      "source": [
        "<a href=\"https://colab.research.google.com/github/jayanthreddy4884/letupgrade-python/blob/master/DAY_6.ipynb\" target=\"_parent\"><img src=\"https://colab.research.google.com/assets/colab-badge.svg\" alt=\"Open In Colab\"/></a>"
      ]
    },
    {
      "cell_type": "markdown",
      "metadata": {
        "id": "-FwJxnR_F2bI",
        "colab_type": "text"
      },
      "source": [
        "#DAY 6 ASSIGNMENTS"
      ]
    },
    {
      "cell_type": "markdown",
      "metadata": {
        "id": "PzHbb0vpF8lQ",
        "colab_type": "text"
      },
      "source": [
        "##Assignment 1"
      ]
    },
    {
      "cell_type": "code",
      "metadata": {
        "id": "LSoDkSsqGA5r",
        "colab_type": "code",
        "colab": {}
      },
      "source": [
        " \n",
        " \n",
        "balance=0\n",
        " \n",
        "class BankAccount():\n",
        " \n",
        "  def __init__(self,oname,balance):\n",
        " \n",
        "    self.oname=oname\n",
        " \n",
        "    self.balance=balance\n",
        " \n",
        "    print (\"Hey \"+self.oname+\"!!!!\\n\")\n",
        " \n",
        "  def withdraw(self,balance):\n",
        "    \n",
        "    num=int(input(\"enter amount to withdraw : \"))\n",
        " \n",
        "    if num<balance :\n",
        " \n",
        "      print(\"Insufficient amount in account to withdraw\\n\")\n",
        " \n",
        "    else:\n",
        " \n",
        "      balance=balance-num\n",
        " \n",
        "      print(num,\"/- withdrawn\")\n",
        " \n",
        "      print(\"Balance amount : \",balance)\n",
        " \n",
        "      \n",
        " \n",
        "  def deposit(self,balance):\n",
        "    \n",
        "    num= int(input(\"enter amount to deposit :\"))\n",
        " \n",
        "    print(num ,\"/- amount deposited \")\n",
        "    balance=balance+num\n",
        " \n",
        "    print(\"Balance amount : \",balance)\n",
        " \n",
        "    \n",
        " \n",
        "name=input(\" enter your name :\")\n",
        " \n",
        "obj=BankAccount(name,0)\n",
        " \n",
        "ch=\"y\"\n",
        " \n",
        "while ch.lower()==\"y\":\n",
        " \n",
        "  print(\"please choose an option :\")\n",
        " \n",
        "  print(\"1.WITHDRAW \\n2.DEPOSIT\")\n",
        " \n",
        "  i=int(input(\"your choice :\"))\n",
        " \n",
        "  if i==1:\n",
        " \n",
        "    obj.withdraw(balance)\n",
        " \n",
        "  elif i==2:\n",
        " \n",
        "    obj.deposit(balance)\n",
        " \n",
        "  else:\n",
        " \n",
        "    print(\"INVALID CHOICE !!!!\")\n",
        " \n",
        "  \n",
        " \n",
        "  ch=input(\"\\n Do U want to continue  (y/n) :\")"
      ],
      "execution_count": null,
      "outputs": []
    },
    {
      "cell_type": "markdown",
      "metadata": {
        "id": "p80smM7CHFmo",
        "colab_type": "text"
      },
      "source": [
        "##Assignment 2"
      ]
    },
    {
      "cell_type": "code",
      "metadata": {
        "id": "8Dr2IV7vHKG9",
        "colab_type": "code",
        "colab": {}
      },
      "source": [
        "import math\n",
        "class Cone():\n",
        " \n",
        "  #def __init__(self,r,h):\n",
        " \n",
        "    #self.r=r\n",
        " \n",
        "    #self.h=h\n",
        " \n",
        "    \n",
        " \n",
        "  def volume(self,r,h):\n",
        " \n",
        "    v=3.14*r*r*(h/3)\n",
        " \n",
        "    return v\n",
        " \n",
        "    \n",
        " \n",
        "  def sArea(self,r,h):\n",
        "    i=h**2+r**2\n",
        "    s=3.14*r*(r+sqrt(i))\n",
        " \n",
        "    return s\n",
        " \n",
        "    \n",
        " \n",
        "r=int(input(\"Enter radius  : \"))\n",
        " \n",
        "h=int(input(\"Enter height  : \"))\n",
        " \n",
        " \n",
        " \n",
        "obj=Cone()\n",
        " \n",
        "print(\"VOLUME of Cone is \",obj.volume(r,h))\n",
        " \n",
        "print(\"SURFACE AREA of Cone is \",obj.sArea(r,h))"
      ],
      "execution_count": null,
      "outputs": []
    }
  ]
}