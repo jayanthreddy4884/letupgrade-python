{
  "nbformat": 4,
  "nbformat_minor": 0,
  "metadata": {
    "colab": {
      "name": "Untitled0.ipynb",
      "provenance": [],
      "authorship_tag": "ABX9TyOJe6sPjxpkDe0aBrPGWGWr",
      "include_colab_link": true
    },
    "kernelspec": {
      "name": "python3",
      "display_name": "Python 3"
    }
  },
  "cells": [
    {
      "cell_type": "markdown",
      "metadata": {
        "id": "view-in-github",
        "colab_type": "text"
      },
      "source": [
        "<a href=\"https://colab.research.google.com/github/jayanthreddy4884/letupgrade-python/blob/master/day%202.ipynb\" target=\"_parent\"><img src=\"https://colab.research.google.com/assets/colab-badge.svg\" alt=\"Open In Colab\"/></a>"
      ]
    },
    {
      "cell_type": "markdown",
      "metadata": {
        "id": "fOilntb0Zefc",
        "colab_type": "text"
      },
      "source": [
        "Day 2 Assignment"
      ]
    },
    {
      "cell_type": "markdown",
      "metadata": {
        "id": "HOed8eFtZlbv",
        "colab_type": "text"
      },
      "source": [
        "1. List and its default function"
      ]
    },
    {
      "cell_type": "code",
      "metadata": {
        "id": "ntvNGMbvZd-q",
        "colab_type": "code",
        "colab": {
          "base_uri": "https://localhost:8080/",
          "height": 411
        },
        "outputId": "87a04e69-4ed2-43d9-f320-c0eed678994b"
      },
      "source": [
        " \n",
        "st=[1,2,4884,6.5,\"jay\"]\n",
        " \n",
        "print(st)\n",
        " \n",
        "print(st[2:5])\n",
        " \n",
        "print(st[:4])\n",
        " \n",
        "print(st[2:])\n",
        " \n",
        "print(st[-4:-1])\n",
        " \n",
        "for x in st:\n",
        " \n",
        "      print (x)\n",
        " \n",
        "print (len(st))\n",
        " \n",
        "st.append(10)\n",
        " \n",
        "print(st)\n",
        " \n",
        "st.insert(3,'$')\n",
        " \n",
        "print(st)\n",
        " \n",
        "print(st.pop())\n",
        " \n",
        "print(st)\n",
        " \n",
        "st.remove(2)\n",
        " \n",
        "print(st)\n",
        " \n",
        "del st[2]\n",
        " \n",
        "print (st)\n",
        " \n",
        "str=list(st)\n",
        " \n",
        "print(str) \n",
        " \n",
        "st2=[6,7,8]\n",
        " \n",
        "st.extend(st2)\n",
        " \n",
        "print (st)\n",
        " \n",
        "st.reverse()\n",
        " \n",
        "print (st)\n",
        " \n",
        " \n",
        " \n",
        "print (st)\n",
        " \n",
        "print (st.index(\"jay\"))\n",
        " \n",
        " \n",
        "del st"
      ],
      "execution_count": 6,
      "outputs": [
        {
          "output_type": "stream",
          "text": [
            "[1, 2, 4884, 6.5, 'jay']\n",
            "[4884, 6.5, 'jay']\n",
            "[1, 2, 4884, 6.5]\n",
            "[4884, 6.5, 'jay']\n",
            "[2, 4884, 6.5]\n",
            "1\n",
            "2\n",
            "4884\n",
            "6.5\n",
            "jay\n",
            "5\n",
            "[1, 2, 4884, 6.5, 'jay', 10]\n",
            "[1, 2, 4884, '$', 6.5, 'jay', 10]\n",
            "10\n",
            "[1, 2, 4884, '$', 6.5, 'jay']\n",
            "[1, 4884, '$', 6.5, 'jay']\n",
            "[1, 4884, 6.5, 'jay']\n",
            "[1, 4884, 6.5, 'jay']\n",
            "[1, 4884, 6.5, 'jay', 6, 7, 8]\n",
            "[8, 7, 6, 'jay', 6.5, 4884, 1]\n",
            "[8, 7, 6, 'jay', 6.5, 4884, 1]\n",
            "3\n"
          ],
          "name": "stdout"
        }
      ]
    },
    {
      "cell_type": "markdown",
      "metadata": {
        "id": "hEQF-Fj1dK14",
        "colab_type": "text"
      },
      "source": [
        " 2. Dictionary and its default functions"
      ]
    },
    {
      "cell_type": "code",
      "metadata": {
        "id": "iQDsqin_dcCi",
        "colab_type": "code",
        "colab": {
          "base_uri": "https://localhost:8080/",
          "height": 173
        },
        "outputId": "db21d014-cc1b-46bf-b0e6-160277c68e62"
      },
      "source": [
        " \n",
        "car = {\n",
        " \n",
        "  \"brand\": \"Ford\",\n",
        " \n",
        "  \"model\": \"Mustang\",\n",
        " \n",
        "  \"year\": 1964\n",
        " \n",
        "}\n",
        " \n",
        "print(car)\n",
        " \n",
        "print (car.get(\"brand\"))\n",
        " \n",
        "print (car.items())\n",
        " \n",
        "print (car.keys())\n",
        " \n",
        "print (car.values())\n",
        " \n",
        "car.pop(\"year\")\n",
        " \n",
        "print (car)\n",
        " \n",
        "print (car.popitem())\n",
        " \n",
        "car.update({\"color\":\"black\"})\n",
        " \n",
        "print (car)"
      ],
      "execution_count": 8,
      "outputs": [
        {
          "output_type": "stream",
          "text": [
            "{'brand': 'Ford', 'model': 'Mustang', 'year': 1964}\n",
            "Ford\n",
            "dict_items([('brand', 'Ford'), ('model', 'Mustang'), ('year', 1964)])\n",
            "dict_keys(['brand', 'model', 'year'])\n",
            "dict_values(['Ford', 'Mustang', 1964])\n",
            "{'brand': 'Ford', 'model': 'Mustang'}\n",
            "('model', 'Mustang')\n",
            "{'brand': 'Ford', 'color': 'black'}\n"
          ],
          "name": "stdout"
        }
      ]
    },
    {
      "cell_type": "markdown",
      "metadata": {
        "id": "R45QcpAhdzp9",
        "colab_type": "text"
      },
      "source": [
        "3. Set and its default functions"
      ]
    },
    {
      "cell_type": "code",
      "metadata": {
        "id": "raVGR5vKd_Bu",
        "colab_type": "code",
        "colab": {
          "base_uri": "https://localhost:8080/",
          "height": 207
        },
        "outputId": "fb58227f-da3d-42df-a19d-626206fd0653"
      },
      "source": [
        " \n",
        "fruits = {\"apple\", \"banana\", \"cherry\"}\n",
        " \n",
        "fruits2 = { \"grapes\",\"papaya\",\"mangoo\",\n",
        " \n",
        "             \"apple\",\"banana\",\"orange\",\"cherry\"}\n",
        " \n",
        "str2 ={ \"google\",\"messi\"}\n",
        " \n",
        "fruits.add(\"orange\")\n",
        " \n",
        "print(fruits)\n",
        " \n",
        "str= fruits.copy()\n",
        " \n",
        "print (str)\n",
        " \n",
        "#print fruits.difference(fruits2)\n",
        " \n",
        "print (fruits.difference(fruits2))\n",
        " \n",
        "fruits.discard(\"apple\")\n",
        " \n",
        "print (fruits)\n",
        " \n",
        "print (fruits.intersection(str))\n",
        " \n",
        "print (fruits.isdisjoint(fruits2))\n",
        " \n",
        "print (fruits2.issuperset(fruits))\n",
        " \n",
        "print (fruits.issubset(fruits2))\n",
        " \n",
        "print (fruits.union(str2))\n",
        " \n",
        "str2.update(fruits)\n",
        " \n",
        "print (str2)"
      ],
      "execution_count": 9,
      "outputs": [
        {
          "output_type": "stream",
          "text": [
            "{'apple', 'orange', 'cherry', 'banana'}\n",
            "{'apple', 'orange', 'cherry', 'banana'}\n",
            "set()\n",
            "{'orange', 'cherry', 'banana'}\n",
            "{'banana', 'orange', 'cherry'}\n",
            "False\n",
            "True\n",
            "True\n",
            "{'banana', 'messi', 'google', 'orange', 'cherry'}\n",
            "{'banana', 'messi', 'google', 'orange', 'cherry'}\n"
          ],
          "name": "stdout"
        }
      ]
    },
    {
      "cell_type": "markdown",
      "metadata": {
        "id": "2OoOuPHMeYAH",
        "colab_type": "text"
      },
      "source": [
        "4.Tuple and its default function"
      ]
    },
    {
      "cell_type": "code",
      "metadata": {
        "id": "mS4WtZsTeh4a",
        "colab_type": "code",
        "colab": {
          "base_uri": "https://localhost:8080/",
          "height": 105
        },
        "outputId": "bd03ea58-004a-45bd-e0ef-6deaccefae6a"
      },
      "source": [
        " \n",
        "str=(1,2,4884,\"jay\",78.9,2,3,2)\n",
        " \n",
        "print (str)\n",
        " \n",
        "print (str[-5:-2])\n",
        " \n",
        "print (str.count(2))\n",
        " \n",
        "print (str.index(3))"
      ],
      "execution_count": 10,
      "outputs": [
        {
          "output_type": "stream",
          "text": [
            "(1, 2, 4884, 'jay', 78.9, 2, 3, 2)\n",
            "('jay', 78.9, 2)\n",
            "3\n",
            "6\n"
          ],
          "name": "stdout"
        }
      ]
    },
    {
      "cell_type": "markdown",
      "metadata": {
        "id": "ehdAsp2oe84E",
        "colab_type": "text"
      },
      "source": [
        "5.String & it  default functions"
      ]
    },
    {
      "cell_type": "code",
      "metadata": {
        "id": "GK4I1tpofFRD",
        "colab_type": "code",
        "colab": {
          "base_uri": "https://localhost:8080/",
          "height": 540
        },
        "outputId": "d2d0cd0c-87a0-49b1-d5d5-e913cfe7c55e"
      },
      "source": [
        " \n",
        "#string \n",
        " \n",
        "a=\" Jayanth Reddy \"\n",
        " \n",
        "print(a[1])\n",
        " \n",
        "print(a[2:5])\n",
        " \n",
        "print(a[-5:-2])\n",
        " \n",
        "print(len(a))\n",
        " \n",
        "print(a.strip()) \n",
        " \n",
        "print(a.lower())\n",
        " \n",
        "print(a.upper())\n",
        " \n",
        "print(a.replace(\"h\",\"J\"))\n",
        " \n",
        "print(a.split(\" \")) \n",
        " \n",
        "x = \"Jay\" in a\n",
        " \n",
        "print(x)\n",
        " \n",
        "b=\"Pidugu\"\n",
        " \n",
        "c=a+b\n",
        " \n",
        "print(c)\n",
        " \n",
        "c=a+\":\"+b\n",
        " \n",
        "print(c)\n",
        " \n",
        "print(list(enumerate(a)))\n",
        " \n",
        "del a\n",
        " \n",
        "print (a)"
      ],
      "execution_count": 12,
      "outputs": [
        {
          "output_type": "stream",
          "text": [
            "J\n",
            "aya\n",
            "edd\n",
            "15\n",
            "Jayanth Reddy\n",
            " jayanth reddy \n",
            " JAYANTH REDDY \n",
            " JayantJ Reddy \n",
            "['', 'Jayanth', 'Reddy', '']\n",
            "True\n",
            " Jayanth Reddy Pidugu\n",
            " Jayanth Reddy :Pidugu\n",
            "[(0, ' '), (1, 'J'), (2, 'a'), (3, 'y'), (4, 'a'), (5, 'n'), (6, 't'), (7, 'h'), (8, ' '), (9, 'R'), (10, 'e'), (11, 'd'), (12, 'd'), (13, 'y'), (14, ' ')]\n"
          ],
          "name": "stdout"
        },
        {
          "output_type": "error",
          "ename": "NameError",
          "evalue": "ignored",
          "traceback": [
            "\u001b[0;31m---------------------------------------------------------------------------\u001b[0m",
            "\u001b[0;31mNameError\u001b[0m                                 Traceback (most recent call last)",
            "\u001b[0;32m<ipython-input-12-afb2c0eca546>\u001b[0m in \u001b[0;36m<module>\u001b[0;34m()\u001b[0m\n\u001b[1;32m     40\u001b[0m \u001b[0;32mdel\u001b[0m \u001b[0ma\u001b[0m\u001b[0;34m\u001b[0m\u001b[0;34m\u001b[0m\u001b[0m\n\u001b[1;32m     41\u001b[0m \u001b[0;34m\u001b[0m\u001b[0m\n\u001b[0;32m---> 42\u001b[0;31m \u001b[0mprint\u001b[0m \u001b[0;34m(\u001b[0m\u001b[0ma\u001b[0m\u001b[0;34m)\u001b[0m\u001b[0;34m\u001b[0m\u001b[0;34m\u001b[0m\u001b[0m\n\u001b[0m",
            "\u001b[0;31mNameError\u001b[0m: name 'a' is not defined"
          ]
        }
      ]
    }
  ]
}