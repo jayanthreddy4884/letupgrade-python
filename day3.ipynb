{
  "nbformat": 4,
  "nbformat_minor": 0,
  "metadata": {
    "colab": {
      "name": "Ifelif.ipynb",
      "provenance": [],
      "collapsed_sections": [],
      "authorship_tag": "ABX9TyNGCdCf6dvJrWSkgnizyYpp",
      "include_colab_link": true
    },
    "kernelspec": {
      "name": "python3",
      "display_name": "Python 3"
    }
  },
  "cells": [
    {
      "cell_type": "markdown",
      "metadata": {
        "id": "view-in-github",
        "colab_type": "text"
      },
      "source": [
        "<a href=\"https://colab.research.google.com/github/jayanthreddy4884/letupgrade-python/blob/master/day3.ipynb\" target=\"_parent\"><img src=\"https://colab.research.google.com/assets/colab-badge.svg\" alt=\"Open In Colab\"/></a>"
      ]
    },
    {
      "cell_type": "markdown",
      "metadata": {
        "id": "tA1FX24JTH7n",
        "colab_type": "text"
      },
      "source": [
        "DAY 3 ... Assignment 1"
      ]
    },
    {
      "cell_type": "code",
      "metadata": {
        "id": "eru0wAhZ_f1w",
        "colab_type": "code",
        "colab": {
          "base_uri": "https://localhost:8080/",
          "height": 51
        },
        "outputId": "368f1e85-f157-4d4b-8f5b-1185a7a45c12"
      },
      "source": [
        " \n",
        "#Day-3 assignment-1\n",
        " \n",
        "n=input(\"Enter the altitude(fts) :\")\n",
        "n=int(n)\n",
        "if n<=1000:\n",
        "    print(\"Safe to land\")\n",
        "elif n>1000 and n<5000:\n",
        "    print(\"Bring down to 1000fts\")\n",
        "else:\n",
        "    print(\"Turn around & try later\")"
      ],
      "execution_count": 45,
      "outputs": [
        {
          "output_type": "stream",
          "text": [
            "Enter the altitude(fts) :20\n",
            "Safe to land\n"
          ],
          "name": "stdout"
        }
      ]
    },
    {
      "cell_type": "markdown",
      "metadata": {
        "id": "N-4azpB0Tmrs",
        "colab_type": "text"
      },
      "source": [
        "DAY 3 ...Assignment 2"
      ]
    },
    {
      "cell_type": "code",
      "metadata": {
        "id": "PayZIVpvStFd",
        "colab_type": "code",
        "colab": {}
      },
      "source": [
        " \n",
        "l = 2\n",
        " \n",
        "u = 200\n",
        " \n",
        "print(\"Prime numbers between\", l, \"and\", u, \"are:\")\n",
        " \n",
        "for num in range(l, u + 1):\n",
        " \n",
        "   \n",
        " \n",
        "   if num > 1:\n",
        " \n",
        "       for i in range(2, num):\n",
        " \n",
        "           if (num % i) == 0:\n",
        " \n",
        "               break\n",
        " \n",
        "       else:\n",
        " \n",
        "           print(num)"
      ],
      "execution_count": null,
      "outputs": []
    }
  ]
}